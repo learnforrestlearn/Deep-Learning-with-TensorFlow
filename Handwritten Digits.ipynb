{
 "cells": [
  {
   "cell_type": "markdown",
   "metadata": {},
   "source": [
    "**Deep Learning with TensorFlow**"
   ]
  },
  {
   "cell_type": "markdown",
   "metadata": {},
   "source": [
    "**Importing some Basic Libraries**"
   ]
  },
  {
   "cell_type": "code",
   "execution_count": 14,
   "metadata": {
    "_kg_hide-input": true,
    "_kg_hide-output": true
   },
   "outputs": [
    {
     "name": "stdout",
     "output_type": "stream",
     "text": [
      "Requirement already satisfied: squarify in /Users/jooyeon/opt/anaconda3/lib/python3.8/site-packages (0.4.3)\r\n"
     ]
    }
   ],
   "source": [
    "!pip install squarify"
   ]
  },
  {
   "cell_type": "code",
   "execution_count": 15,
   "metadata": {
    "_cell_guid": "b1076dfc-b9ad-4769-8c92-a6c4dae69d19",
    "_uuid": "8f2839f25d086af736a60e9eeb907d3b93b6e0e5"
   },
   "outputs": [],
   "source": [
    "# for some basic operations\n",
    "import numpy as np \n",
    "import pandas as pd \n",
    "\n",
    "# for visualizations\n",
    "import matplotlib.pyplot as plt\n",
    "import squarify\n",
    "\n",
    "# keras\n",
    "import math\n",
    "import numpy as np\n",
    "import matplotlib.pyplot as plt\n",
    "import tensorflow as tf\n",
    "import tensorflow.keras as keras\n"
   ]
  },
  {
   "cell_type": "code",
   "execution_count": 16,
   "metadata": {
    "_cell_guid": "79c7e3d0-c299-4dcb-8224-4455121ee9b0",
    "_uuid": "d629ff2d2480ee46fbb7e2d37f6b5fab8052498a"
   },
   "outputs": [
    {
     "name": "stdout",
     "output_type": "stream",
     "text": [
      "2.3.0\n"
     ]
    },
    {
     "data": {
      "image/png": "[encoded data removed]",
      "text/plain": [
       "<Figure size 432x288 with 1 Axes>"
      ]
     },
     "metadata": {
      "needs_background": "light"
     },
     "output_type": "display_data"
    },
    {
     "data": {
      "image/png": "[encoded data removed]",
      "text/plain": [
       "<Figure size 432x288 with 1 Axes>"
      ]
     },
     "metadata": {
      "needs_background": "light"
     },
     "output_type": "display_data"
    }
   ],
   "source": [
    "#Identifying handwritten digits\n",
    "#There are many ways to solve this other, and one of ways I found is\n",
    "#https://www.kaggle.com/uysimty/get-start-image-classification\n",
    "\n",
    "# print(tf.__version__)\n",
    "### LOAD DATA ###\n",
    "mnist = tf.keras.datasets.mnist #28x28 images of hand-written digits 0-9\n",
    "(x_train, y_train), (x_test, y_test) = mnist.load_data()\n",
    "# print(x_train[0])\n",
    "\n",
    "plt.imshow(x_train[0],cmap=plt.cm.binary)\n",
    "plt.show()\n",
    "\n",
    "### Normalizing input data, x_train, x_test ### \n",
    "# Normalization is a rescaling of the data from the original range \n",
    "# so that all values are within the range of 0 and 1.\n",
    "# https://www.tensorflow.org/api_docs/python/tf/keras/utils/normalize\n",
    "# https://stackoverflow.com/questions/52812815/what-does-keras-normalize-axis-argument-does\n",
    "x_train = tf.keras.utils.normalize(x_train, axis=1)\n",
    "x_test = tf.keras.utils.normalize(x_test, axis=1)\n",
    "\n",
    "# print(x_train[0]) #after normalizing input\n",
    " \n",
    "plt.imshow(x_train[0],cmap=plt.cm.binary)\n",
    "plt.show()\n",
    "\n"
   ]
  },
  {
   "cell_type": "code",
   "execution_count": 17,
   "metadata": {},
   "outputs": [
    {
     "name": "stdout",
     "output_type": "stream",
     "text": [
      "Epoch 1/3\n",
      "1875/1875 [==============================] - 2s 849us/step - loss: 0.2615 - accuracy: 0.9236\n",
      "Epoch 2/3\n",
      "1875/1875 [==============================] - 2s 844us/step - loss: 0.1055 - accuracy: 0.9673\n",
      "Epoch 3/3\n",
      "1875/1875 [==============================] - 2s 837us/step - loss: 0.0712 - accuracy: 0.9773\n"
     ]
    },
    {
     "data": {
      "text/plain": [
       "<tensorflow.python.keras.callbacks.History at 0x14fdb7340>"
      ]
     },
     "execution_count": 17,
     "metadata": {},
     "output_type": "execute_result"
    }
   ],
   "source": [
    "### PICK A MODEL ###\n",
    "model = tf.keras.models.Sequential()\n",
    "\n",
    "### MODEL LAYERS: Dense, Conv2D, MaxPooling2D, etc with activation ###\n",
    "# https://www.tensorflow.org/api_docs/python/tf/keras/layers/Flatten\n",
    "model.add(tf.keras.layers.Flatten()) #input layer: we want to flatten it (unroll) instead of multi dimentional array\n",
    "model.add(tf.keras.layers.Dense(128, activation=tf.nn.relu)) #hidden layer with 128 units\n",
    "model.add(tf.keras.layers.Dense(128, activation=tf.nn.relu)) #second hidden layer. Relu is default activation function\n",
    "model.add(tf.keras.layers.Dense(10, activation=tf.nn.softmax)) #output layer with 10 classification\n",
    "\n",
    "### TRAIN AND OPTIMIZE: model.compile, model.fit\n",
    "#train this model. Min loss is what we want to optimize, not accuracy.\n",
    "#adam optimizer ( Mini batch gradient descent with momentum+RMS prop) https://www.coursera.org/learn/deep-neural-network/lecture/w9VCZ/adam-optimization-algorithm\n",
    "model.compile(optimizer='adam',\n",
    "             loss='sparse_categorical_crossentropy',\n",
    "             metrics=['accuracy'])\n",
    "model.fit(x_train, y_train, epochs=3)"
   ]
  },
  {
   "cell_type": "code",
   "execution_count": 18,
   "metadata": {},
   "outputs": [
    {
     "name": "stdout",
     "output_type": "stream",
     "text": [
      "313/313 [==============================] - 0s 550us/step - loss: 0.0924 - accuracy: 0.9725\n",
      "0.09238238632678986 0.9725000262260437\n"
     ]
    }
   ],
   "source": [
    "#Since accuracy is pretty good (97%), check if we are overfitting with test data\n",
    "val_loss, val_acc = model.evaluate (x_test, y_test)\n",
    "print(val_loss, val_acc)\n"
   ]
  },
  {
   "cell_type": "code",
   "execution_count": 19,
   "metadata": {},
   "outputs": [
    {
     "name": "stdout",
     "output_type": "stream",
     "text": [
      "INFO:tensorflow:Assets written to: v1_num_reader.model/assets\n"
     ]
    }
   ],
   "source": [
    "#train vs test data set gave similar result. good to go\n",
    "#save the model\n",
    "model.save('v1_num_reader.model')"
   ]
  },
  {
   "cell_type": "code",
   "execution_count": 21,
   "metadata": {},
   "outputs": [],
   "source": [
    "\n",
    "#to load model\n",
    "new_model = tf.keras.models.load_model('v1_num_reader.model')\n",
    "predictions = new_model.predict([x_test])\n"
   ]
  },
  {
   "cell_type": "code",
   "execution_count": 22,
   "metadata": {},
   "outputs": [
    {
     "name": "stdout",
     "output_type": "stream",
     "text": [
      "[[4.66586725e-09 3.59466782e-07 1.67215730e-05 ... 9.99972224e-01\n",
      "  2.66982725e-09 1.70962924e-08]\n",
      " [6.84150653e-12 7.97803659e-05 9.99918342e-01 ... 4.91227337e-10\n",
      "  4.66499062e-10 1.36951729e-13]\n",
      " [5.65548355e-08 9.99746263e-01 1.12222115e-05 ... 4.96788016e-05\n",
      "  3.73614203e-05 2.37192194e-06]\n",
      " ...\n",
      " [5.42420830e-10 2.81432534e-07 3.13770165e-08 ... 2.15601012e-05\n",
      "  6.99371810e-07 1.46581488e-05]\n",
      " [6.82613154e-06 4.44934827e-08 1.24916156e-07 ... 7.06455103e-06\n",
      "  6.46367145e-04 1.45694273e-07]\n",
      " [1.59876059e-08 2.73866636e-08 6.22584224e-08 ... 2.40206854e-10\n",
      "  1.66286114e-07 5.19260368e-09]]\n"
     ]
    }
   ],
   "source": [
    "#print probability distribution\n",
    "print(predictions)"
   ]
  },
  {
   "cell_type": "code",
   "execution_count": 26,
   "metadata": {},
   "outputs": [
    {
     "name": "stdout",
     "output_type": "stream",
     "text": [
      "0\n"
     ]
    }
   ],
   "source": [
    "print(np.argmax(predictions[10])) #prediction for x_test[10]"
   ]
  },
  {
   "cell_type": "code",
   "execution_count": 27,
   "metadata": {},
   "outputs": [
    {
     "data": {
      "image/png": "[encoded data removed]",
      "text/plain": [
       "<Figure size 432x288 with 1 Axes>"
      ]
     },
     "metadata": {
      "needs_background": "light"
     },
     "output_type": "display_data"
    }
   ],
   "source": [
    "plt.imshow(x_test[10])\n",
    "plt.show()"
   ]
  },
  {
   "cell_type": "code",
   "execution_count": 30,
   "metadata": {},
   "outputs": [
    {
     "name": "stdout",
     "output_type": "stream",
     "text": [
      "2\n"
     ]
    },
    {
     "data": {
      "image/png": "[encoded data removed]",
      "text/plain": [
       "<Figure size 432x288 with 1 Axes>"
      ]
     },
     "metadata": {
      "needs_background": "light"
     },
     "output_type": "display_data"
    }
   ],
   "source": [
    "print(np.argmax(predictions[225])) #prediction for x_test[225]\n",
    "plt.imshow(x_test[225])\n",
    "plt.show()"
   ]
  }
 ],
 "metadata": {
  "kernelspec": {
   "display_name": "Python 3",
   "language": "python",
   "name": "python3"
  },
  "language_info": {
   "codemirror_mode": {
    "name": "ipython",
    "version": 3
   },
   "file_extension": ".py",
   "mimetype": "text/x-python",
   "name": "python",
   "nbconvert_exporter": "python",
   "pygments_lexer": "ipython3",
   "version": "3.8.3"
  }
 },
 "nbformat": 4,
 "nbformat_minor": 4
}
