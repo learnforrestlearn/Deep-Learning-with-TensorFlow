{
 "cells": [
  {
   "cell_type": "code",
   "execution_count": 1,
   "metadata": {},
   "outputs": [
    {
     "name": "stdout",
     "output_type": "stream",
     "text": [
      "Epoch 1/3\n",
      "702/702 [==============================] - 154s 220ms/step - loss: 0.6932 - accuracy: 0.4988 - val_loss: 0.6932 - val_accuracy: 0.4930\n",
      "Epoch 2/3\n",
      "702/702 [==============================] - 149s 212ms/step - loss: 0.6932 - accuracy: 0.4986 - val_loss: 0.6933 - val_accuracy: 0.4930\n",
      "Epoch 3/3\n",
      "702/702 [==============================] - 155s 220ms/step - loss: 0.6932 - accuracy: 0.4966 - val_loss: 0.6932 - val_accuracy: 0.4930\n"
     ]
    },
    {
     "data": {
      "text/plain": [
       "<tensorflow.python.keras.callbacks.History at 0x182ec9f40>"
      ]
     },
     "execution_count": 1,
     "metadata": {},
     "output_type": "execute_result"
    }
   ],
   "source": [
    "#Now that we've got out dataset, we're ready for CNN \n",
    "#and implement one with our data for classification.\n",
    "\n",
    "import tensorflow as tf\n",
    "from tensorflow.keras.datasets import cifar10\n",
    "from tensorflow.keras.preprocessing.image import ImageDataGenerator\n",
    "\n",
    "from tensorflow.keras.models import Sequential\n",
    "from tensorflow.keras.layers import Dense, Dropout, Activation, Flatten, Conv2D, MaxPooling2D\n",
    "\n",
    "import numpy as np\n",
    "import pickle\n",
    "\n",
    "### LOAD DATA ###\n",
    "X = pickle.load(open(\"X.pickle\",\"rb\"))\n",
    "y = pickle.load(open(\"y.pickle\",\"rb\"))\n",
    "\n",
    "### Normalize data - with scaling. Min 0, Max 255 for image ###\n",
    "# Note that X = (X/255.0) will give error later when you run it, if X is a vector.\n",
    "### One reason why we use \"numpy\" instead of \"math\" in Deep Learning ###\n",
    "# example of vector operation\n",
    "# x = np.array([1, 2, 3])\n",
    "# print (x + 3) -> results in a vector. \n",
    "# without numpy.\n",
    "# x = [1, 2, 3]\n",
    "# print (x + 3) -> Error!!!\n",
    "X = np.array(X/255.0)\n",
    "y = np.array(y)\n",
    "\n",
    "### PICK A MODEL ###\n",
    "#Build the model: https://www.tensorflow.org/api_docs/python/tf/keras/Sequential\n",
    "# model = Sequential()\n",
    "model = tf.keras.Sequential()\n",
    "# print(X.shape)\n",
    "\n",
    "### ADD LAYERS: Dense, Conv2D, MaxPooling2D, Dropout, Activation, RNN, etc ###\n",
    "#first layer\n",
    "#Conv2D: https://keras.io/api/layers/convolution_layers/convolution2d/\n",
    "model.add( Conv2D(64, (3, 3), input_shape=X.shape[1:]) )  #64 units, 3x3 is filter shape, input shape \n",
    "model.add(Activation('relu'))\n",
    "model.add(MaxPooling2D(pool_size=(2, 2)))\n",
    "\n",
    "#second layer\n",
    "model.add( Conv2D(64, (3, 3)) )\n",
    "model.add(Activation('relu'))\n",
    "model.add(MaxPooling2D(pool_size=(2, 2)))\n",
    "\n",
    "#third layer: flatten data to 1D and pass to dense layer\n",
    "model.add(Flatten())  # this converts our 3D feature maps to 1D feature vectors: unroll\n",
    "model.add(Dense(units=64))  #64 nodes dense layer for FC\n",
    "model.add(Activation('relu'))\n",
    "\n",
    "#now to output\n",
    "model.add(Dense(units=1))\n",
    "model.add(Activation('sigmoid'))\n",
    "\n",
    "### Train and Optimize : compile, fit ###\n",
    "model.compile(loss='binary_crossentropy',\n",
    "              optimizer='adam',\n",
    "              metrics=['accuracy'])\n",
    "model.fit(X, y, batch_size=32, epochs=3, validation_split=0.1) "
   ]
  },
  {
   "cell_type": "code",
   "execution_count": 2,
   "metadata": {},
   "outputs": [],
   "source": [
    "# after first iteration, we only have 0.5 accuracy and loss is 0.69\n",
    "# Need to optimize model better\n",
    "### Good to learn what's being done when you run the model (encapsulated): \n",
    "### forward_propagation, back_propagation (for derivatives), optimize (gradient descent), train, predict\n",
    "### See Coursera Deep Learning course 1 Assignments: Neural Networks and Deep Learning ###"
   ]
  }
 ],
 "metadata": {
  "kernelspec": {
   "display_name": "Python 3",
   "language": "python",
   "name": "python3"
  },
  "language_info": {
   "codemirror_mode": {
    "name": "ipython",
    "version": 3
   },
   "file_extension": ".py",
   "mimetype": "text/x-python",
   "name": "python",
   "nbconvert_exporter": "python",
   "pygments_lexer": "ipython3",
   "version": "3.8.3"
  }
 },
 "nbformat": 4,
 "nbformat_minor": 4
}
